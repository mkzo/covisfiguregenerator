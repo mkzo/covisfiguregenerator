{
 "cells": [
  {
   "cell_type": "code",
   "execution_count": 2,
   "metadata": {},
   "outputs": [],
   "source": [
    "from netCDF4 import Dataset, MFDataset, num2date\n",
    "import matplotlib.pylab as plt\n",
    "%matplotlib inline\n",
    "import numpy as np\n",
    "from matplotlib import cm\n",
    "import cartopy.crs as ccrs\n",
    "from cmocean import cm as cmo\n",
    "import datetime\n",
    "import sys\n",
    "import os\n",
    "from cartopy.util import add_cyclic_point\n",
    "\n",
    "data_dir = 'https://podaac-opendap.jpl.nasa.gov/opendap/allData/merged_alt/L4/cdr_grid/ssh_grids_v1812_20'"
   ]
  },
  {
   "cell_type": "code",
   "execution_count": 3,
   "metadata": {},
   "outputs": [
    {
     "name": "stdout",
     "output_type": "stream",
     "text": [
      "https://podaac-opendap.jpl.nasa.gov/opendap/allData/merged_alt/L4/cdr_grid/ssh_grids_v1812_2010010112.nc\n"
     ]
    },
    {
     "name": "stderr",
     "output_type": "stream",
     "text": [
      "findfont: Font family ['Times New Roman'] not found. Falling back to DejaVu Sans.\n"
     ]
    },
    {
     "data": {
      "text/plain": [
       "<Figure size 936x446.4 with 0 Axes>"
      ]
     },
     "metadata": {},
     "output_type": "display_data"
    }
   ],
   "source": [
    "start_date = datetime.date(2010, 1, 1)\n",
    "time_delta = datetime.timedelta(5)\n",
    "#cmap.set_under(\"black\")\n",
    "#cmap.set_over(\"DarkViolet\")\n",
    "nf = 0\n",
    "fig = plt.figure(figsize=(13,6.2))\n",
    "levels = np.linspace(-0.5, 0.5, 20)\n",
    "\n",
    "for i in range(1,2): #change to 366 for the full 5 years\n",
    "    strtemp = data_dir+start_date.strftime(\"%y\")+start_date.strftime(\"%m\")+start_date.strftime(\"%d\")+'12.nc'\n",
    "    print(strtemp)\n",
    "    dataset = Dataset(strtemp)\n",
    "    # lookup a variable\n",
    "    data = dataset.variables['SLA'][0,:,:]\n",
    "    lons = dataset.variables['Longitude'][:]\n",
    "    lats = dataset.variables['Latitude'][:]\n",
    "    #lons, lats = np.meshgrid(lons, lats)\n",
    "    data = np.transpose(data)\n",
    "\n",
    "    ax = plt.subplot(111, projection=ccrs.PlateCarree())\n",
    "    cs = ax.contourf(lons, lats, data, 20, levels = levels,\n",
    "                transform=ccrs.PlateCarree(),\n",
    "                cmap='jet')\n",
    "#     mm = ax.pcolormesh(lons,\\\n",
    "#                        lats,\\\n",
    "#                        data,\\\n",
    "#     #                    vmin=-2,\\\n",
    "#     #                    vmax=30,\\\n",
    "#                        transform=ccrs.PlateCarree())\n",
    "    ax.coastlines();\n",
    "    ax.stock_img();\n",
    "    gl = ax.gridlines(crs=ccrs.PlateCarree(), draw_labels=True,\n",
    "                  linewidth=1, color='black', alpha=0.5, linestyle='--')\n",
    "    #cbar_ax = fig.add_axes([0, 0, 0.1, 0.1])\n",
    "    plt.colorbar(cs)\n",
    "    plt.title(\"20\"+start_date.strftime(\"%y\")+\"-\"+start_date.strftime(\"%m\")+\"-\"+start_date.strftime(\"%d\")+\" (MEaSUREs-SSH 18.5km 5Day)\", fontsize=18, fontname=\"Times New Roman\",fontweight=\"bold\")\n",
    "    nf = nf + 1\n",
    "    \n",
    "    plt.savefig(\"frame{0}\".format(str(nf).rjust(4, \"0\")), dpi = 300)\n",
    "    plt.clf()\n",
    "    \n",
    "    start_date = start_date + time_delta"
   ]
  },
  {
   "cell_type": "code",
   "execution_count": null,
   "metadata": {},
   "outputs": [],
   "source": []
  }
 ],
 "metadata": {
  "kernelspec": {
   "display_name": "Python 3",
   "language": "python",
   "name": "python3"
  },
  "language_info": {
   "codemirror_mode": {
    "name": "ipython",
    "version": 3
   },
   "file_extension": ".py",
   "mimetype": "text/x-python",
   "name": "python",
   "nbconvert_exporter": "python",
   "pygments_lexer": "ipython3",
   "version": "3.8.6"
  }
 },
 "nbformat": 4,
 "nbformat_minor": 4
}
