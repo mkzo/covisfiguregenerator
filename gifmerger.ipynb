{
 "cells": [
  {
   "cell_type": "code",
   "execution_count": 8,
   "metadata": {},
   "outputs": [],
   "source": [
    "import imageio\n",
    "import numpy as np    \n",
    "\n",
    "#Create reader object for the gif\n",
    "gif1 = imageio.get_reader('2010movie.gif')\n",
    "gif2 = imageio.get_reader('2011movie.gif')\n",
    "gif3 = imageio.get_reader('2012movie.gif')\n",
    "gif4 = imageio.get_reader('2013movie.gif')\n",
    "gif5 = imageio.get_reader('2014movie.gif')\n",
    "\n",
    "#If they don't have the same number of frame take the shorter\n",
    "number_of_frames = min(gif1.get_length(), gif2.get_length(), gif3.get_length(), gif4.get_length(), gif5.get_length()) \n",
    "\n",
    "#Create writer object\n",
    "new_gif = imageio.get_writer('mergedmovie.gif')\n",
    "\n",
    "for frame_number in range(number_of_frames):\n",
    "    img1 = gif1.get_next_data()\n",
    "    img2 = gif2.get_next_data()\n",
    "    img3 = gif3.get_next_data()\n",
    "    img4 = gif4.get_next_data()\n",
    "    img5 = gif5.get_next_data()\n",
    "    #here is the magic\n",
    "    new_image = np.hstack((img1, img2, img3, img4, img5))\n",
    "    new_gif.append_data(new_image)\n",
    "\n",
    "gif1.close()\n",
    "gif2.close()  \n",
    "gif3.close()\n",
    "gif4.close()\n",
    "gif5.close()\n",
    "new_gif.close()"
   ]
  },
  {
   "cell_type": "code",
   "execution_count": 5,
   "metadata": {},
   "outputs": [],
   "source": []
  },
  {
   "cell_type": "code",
   "execution_count": 6,
   "metadata": {},
   "outputs": [
    {
     "data": {
      "text/plain": [
       "72"
      ]
     },
     "execution_count": 6,
     "metadata": {},
     "output_type": "execute_result"
    }
   ],
   "source": []
  },
  {
   "cell_type": "code",
   "execution_count": null,
   "metadata": {},
   "outputs": [],
   "source": []
  }
 ],
 "metadata": {
  "kernelspec": {
   "display_name": "Python 3",
   "language": "python",
   "name": "python3"
  },
  "language_info": {
   "codemirror_mode": {
    "name": "ipython",
    "version": 3
   },
   "file_extension": ".py",
   "mimetype": "text/x-python",
   "name": "python",
   "nbconvert_exporter": "python",
   "pygments_lexer": "ipython3",
   "version": "3.8.6"
  }
 },
 "nbformat": 4,
 "nbformat_minor": 4
}
