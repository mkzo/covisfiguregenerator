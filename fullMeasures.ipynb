{
 "cells": [
  {
   "cell_type": "code",
   "execution_count": null,
   "metadata": {},
   "outputs": [],
   "source": [
    "from netCDF4 import Dataset, MFDataset, num2date\n",
    "import matplotlib.pylab as plt\n",
    "%matplotlib inline\n",
    "import numpy as np\n",
    "from matplotlib import cm\n",
    "import cartopy.crs as ccrs\n",
    "from cmocean import cm as cmo\n",
    "import datetime\n",
    "import sys\n",
    "import os\n",
    "from cartopy.util import add_cyclic_point\n",
    "\n",
    "data_dir = 'https://podaac-opendap.jpl.nasa.gov/opendap/allData/merged_alt/L4/cdr_grid/ssh_grids_v1812_20'"
   ]
  },
  {
   "cell_type": "code",
   "execution_count": null,
   "metadata": {},
   "outputs": [],
   "source": [
    "start_date = datetime.date(2010, 1, 1)\n",
    "time_delta = datetime.timedelta(5)\n",
    "nf = 0\n",
    "for i in range(0, 20): #change to 366 for the full 5 years\n",
    "    strtemp = data_dir+start_date.strftime(\"%y\")+start_date.strftime(\"%m\")+start_date.strftime(\"%d\")+'12.nc'\n",
    "    print(strtemp)\n",
    "    dataset = Dataset(strtemp)\n",
    "    # lookup a variable\n",
    "    data = dataset.variables['SLA'][0,:,:]\n",
    "    lons = dataset.variables['Longitude'][:]\n",
    "    lats = dataset.variables['Latitude'][:]\n",
    "    data = np.transpose(data)\n",
    "    # plt.contourf(data)\n",
    "    plt.figure(figsize=(13,6.2))\n",
    "\n",
    "    ax = plt.subplot(111, projection=ccrs.PlateCarree())\n",
    "\n",
    "    mm = ax.pcolormesh(lons,\\\n",
    "                       lats,\\\n",
    "                       data,\\\n",
    "    #                    vmin=-2,\\\n",
    "    #                    vmax=30,\\\n",
    "                       transform=ccrs.PlateCarree())\n",
    "    ax.coastlines();\n",
    "    ax.stock_img();\n",
    "    \n",
    "    nf = nf + 1\n",
    "    \n",
    "    plt.savefig(\"frame{0}\".format(str(nf).rjust(4, \"0\")), dpi = 300)\n",
    "    plt.clf()\n",
    "    \n",
    "    start_date = start_date + time_delta"
   ]
  }
 ],
 "metadata": {
  "kernelspec": {
   "display_name": "Python 3",
   "language": "python",
   "name": "python3"
  },
  "language_info": {
   "codemirror_mode": {
    "name": "ipython",
    "version": 3
   },
   "file_extension": ".py",
   "mimetype": "text/x-python",
   "name": "python",
   "nbconvert_exporter": "python",
   "pygments_lexer": "ipython3",
   "version": "3.8.6"
  }
 },
 "nbformat": 4,
 "nbformat_minor": 4
}
