{
 "cells": [
  {
   "cell_type": "code",
   "execution_count": 1,
   "metadata": {},
   "outputs": [],
   "source": [
    "from netCDF4 import Dataset, MFDataset, num2date\n",
    "import matplotlib.pylab as plt\n",
    "%matplotlib inline\n",
    "import numpy as np\n",
    "from matplotlib import cm\n",
    "import cartopy.crs as ccrs\n",
    "from cmocean import cm as cmo\n",
    "import datetime\n",
    "import sys\n",
    "import os\n",
    "from cartopy.util import add_cyclic_point\n",
    "\n",
    "data_dir = 'https://podaac-opendap.jpl.nasa.gov/opendap/allData/merged_alt/L4/cdr_grid/ssh_grids_v1812_20'"
   ]
  },
  {
   "cell_type": "code",
   "execution_count": 4,
   "metadata": {},
   "outputs": [],
   "source": [
    "def lon_convert(lon):\n",
    "    if lon >= 0:\n",
    "        return 6*lon\n",
    "    if lon < 0:\n",
    "        return 6*(360+lon)\n",
    "    \n",
    "def lat_convert(lat):\n",
    "    return 6*((90-10)+lat)"
   ]
  },
  {
   "cell_type": "code",
   "execution_count": 6,
   "metadata": {},
   "outputs": [
    {
     "name": "stdout",
     "output_type": "stream",
     "text": [
      "https://podaac-opendap.jpl.nasa.gov/opendap/allData/merged_alt/L4/cdr_grid/ssh_grids_v1812_2010010112.nc\n"
     ]
    },
    {
     "data": {
      "text/plain": [
       "<Figure size 936x446.4 with 0 Axes>"
      ]
     },
     "metadata": {},
     "output_type": "display_data"
    }
   ],
   "source": [
    "start_date = datetime.date(2010, 1, 1)\n",
    "time_delta = datetime.timedelta(5)\n",
    "#cmap.set_under(\"black\")\n",
    "#cmap.set_over(\"DarkViolet\")\n",
    "nf = 0\n",
    "fig = plt.figure(figsize=(13,6.2))\n",
    "levels = np.linspace(-0.4, 0.5, 40)\n",
    "\n",
    "for i in range(0, 1): #change to 366 for the full 5 years\n",
    "    strtemp = data_dir+start_date.strftime(\"%y\")+start_date.strftime(\"%m\")+start_date.strftime(\"%d\")+'12.nc'\n",
    "    print(strtemp)\n",
    "    dataset = Dataset(strtemp)\n",
    "    # set dimensions\n",
    "    lon = [-180, -120] # longtitudes west of the meridian, including 180, are negative\n",
    "    lat = [30, 60]\n",
    "    # lookup a variable\n",
    "    data = dataset.variables['SLA'][0, round(lon_convert(lon[0])):round(lon_convert(lon[1])), round(lat_convert(lat[0])):round(lat_convert(lat[1]))] #between 30N and 60N, between 180W and 120W\n",
    "    lons = dataset.variables['Longitude'][:]\n",
    "    lats = dataset.variables['Latitude'][:]\n",
    "    #lons, lats = np.meshgrid(lons, lats)\n",
    "    data = np.transpose(data)\n",
    "    \n",
    "    lons = lons[lons > 360+lon[0]]\n",
    "    lons = lons[lons < 360+lon[1]]\n",
    "    lats = lats[lats > lat[0]]\n",
    "    lats = lats[lats < lat[1]]\n",
    "    \n",
    "    ax = plt.subplot(111, projection=ccrs.PlateCarree())\n",
    "    cs = ax.contourf(lons, lats, data, 40, levels = levels,\n",
    "                transform=ccrs.PlateCarree(),\n",
    "                cmap='jet')\n",
    "    \n",
    "    ax.coastlines();\n",
    "    ax.stock_img();\n",
    "    \n",
    "    ax.plot(-129.1,47.95,'kx', markersize=2) \n",
    "    #css = ax.contourf([210 211], [45 46], [[0.1, 0.1],[0.1, 0.1]], 20, levels = levels,\n",
    "    #            transform=ccrs.PlateCarree(),\n",
    "    #            cmap='jet')\n",
    "    \n",
    "    gl = ax.gridlines(crs=ccrs.PlateCarree(), draw_labels=True,\n",
    "                  linewidth=1, color='black', alpha=0.5, linestyle='--')\n",
    "    #cbar_ax = fig.add_axes([0, 0, 0.1, 0.1])\n",
    "    plt.colorbar(cs)\n",
    "    plt.title(\"20\"+start_date.strftime(\"%y\")+\"-\"+start_date.strftime(\"%m\")+\"-\"+start_date.strftime(\"%d\")+\" (MEaSUREs-SSH 18.5km 5Day)\", fontsize=18, fontname=\"Times New Roman\",fontweight=\"bold\")\n",
    "    nf = nf + 1\n",
    "    \n",
    "    plt.xlim(lon)\n",
    "    plt.ylim(lat)\n",
    "    \n",
    "    plt.savefig(\"frame{0}\".format(str(nf).rjust(4, \"0\")), dpi = 300)\n",
    "    plt.clf()\n",
    "    \n",
    "    start_date = start_date + time_delta"
   ]
  },
  {
   "cell_type": "code",
   "execution_count": null,
   "metadata": {},
   "outputs": [],
   "source": []
  },
  {
   "cell_type": "code",
   "execution_count": null,
   "metadata": {},
   "outputs": [],
   "source": []
  }
 ],
 "metadata": {
  "kernelspec": {
   "display_name": "Python 3",
   "language": "python",
   "name": "python3"
  },
  "language_info": {
   "codemirror_mode": {
    "name": "ipython",
    "version": 3
   },
   "file_extension": ".py",
   "mimetype": "text/x-python",
   "name": "python",
   "nbconvert_exporter": "python",
   "pygments_lexer": "ipython3",
   "version": "3.8.6"
  }
 },
 "nbformat": 4,
 "nbformat_minor": 4
}
